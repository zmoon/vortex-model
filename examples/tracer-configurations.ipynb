{
 "cells": [
  {
   "cell_type": "markdown",
   "id": "biblical-detroit",
   "metadata": {},
   "source": [
    "# Built-in tracer configurations"
   ]
  },
  {
   "cell_type": "code",
   "execution_count": null,
   "id": "multiple-yesterday",
   "metadata": {},
   "outputs": [],
   "source": [
    "import matplotlib.pyplot as plt\n",
    "from ipywidgets import interact\n",
    "\n",
    "import sys; sys.path.append(\"../\"); import vorts\n",
    "\n",
    "%matplotlib widget"
   ]
  },
  {
   "cell_type": "markdown",
   "id": "banner-appreciation",
   "metadata": {},
   "source": [
    "## Spiral"
   ]
  },
  {
   "cell_type": "code",
   "execution_count": null,
   "id": "increasing-champagne",
   "metadata": {},
   "outputs": [],
   "source": [
    "fig1 = plt.figure()\n",
    "\n",
    "def plot_spiral(n=100, revs=2, connect=False):\n",
    "    fig = plt.figure(fig1.number); fig.clf(); ax = fig.add_subplot()\n",
    "    vorts.Tracers.spiral(n=n, revs=revs).plot(ax=ax, connect=connect)\n",
    "    \n",
    "interact(plot_spiral, n=(1, 500), revs=(1, 10))"
   ]
  },
  {
   "cell_type": "code",
   "execution_count": null,
   "id": "specialized-airline",
   "metadata": {},
   "outputs": [],
   "source": [
    "vorts.Tracers.spiral?"
   ]
  },
  {
   "cell_type": "markdown",
   "id": "informed-street",
   "metadata": {},
   "source": [
    "## Uniform random"
   ]
  },
  {
   "cell_type": "code",
   "execution_count": null,
   "id": "cardiac-integrity",
   "metadata": {},
   "outputs": [],
   "source": [
    "vorts.Tracers.randu(200).plot()"
   ]
  },
  {
   "cell_type": "code",
   "execution_count": null,
   "id": "abroad-colleague",
   "metadata": {},
   "outputs": [],
   "source": [
    "vorts.Tracers.randu?"
   ]
  },
  {
   "cell_type": "markdown",
   "id": "cultural-impact",
   "metadata": {},
   "source": [
    "## Gaussian random"
   ]
  },
  {
   "cell_type": "code",
   "execution_count": null,
   "id": "above-drill",
   "metadata": {},
   "outputs": [],
   "source": [
    "vorts.Tracers.randn(400, sig_y=0.5).plot()"
   ]
  },
  {
   "cell_type": "code",
   "execution_count": null,
   "id": "parental-trunk",
   "metadata": {},
   "outputs": [],
   "source": [
    "vorts.Tracers.randn?"
   ]
  },
  {
   "cell_type": "markdown",
   "id": "available-vinyl",
   "metadata": {},
   "source": [
    "## Grid"
   ]
  },
  {
   "cell_type": "code",
   "execution_count": null,
   "id": "critical-consideration",
   "metadata": {},
   "outputs": [],
   "source": [
    "vorts.Tracers.grid(10, 20).plot()  # x first, then y"
   ]
  },
  {
   "cell_type": "code",
   "execution_count": null,
   "id": "german-intake",
   "metadata": {},
   "outputs": [],
   "source": [
    "vorts.Tracers.grid?"
   ]
  },
  {
   "cell_type": "markdown",
   "id": "computational-bandwidth",
   "metadata": {},
   "source": [
    "## Concentric circles"
   ]
  },
  {
   "cell_type": "code",
   "execution_count": null,
   "id": "traditional-burst",
   "metadata": {},
   "outputs": [],
   "source": [
    "vorts.Tracers.circles().plot()"
   ]
  },
  {
   "cell_type": "code",
   "execution_count": null,
   "id": "honest-gross",
   "metadata": {},
   "outputs": [],
   "source": [
    "vorts.Tracers.circles?"
   ]
  }
 ],
 "metadata": {
  "kernelspec": {
   "display_name": "Python 3",
   "language": "python",
   "name": "python3"
  },
  "language_info": {
   "codemirror_mode": {
    "name": "ipython",
    "version": 3
   },
   "file_extension": ".py",
   "mimetype": "text/x-python",
   "name": "python",
   "nbconvert_exporter": "python",
   "pygments_lexer": "ipython3",
   "version": "3.8.6"
  }
 },
 "nbformat": 4,
 "nbformat_minor": 5
}
