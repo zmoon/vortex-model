{
 "cells": [
  {
   "cell_type": "code",
   "execution_count": null,
   "id": "sought-proposal",
   "metadata": {},
   "outputs": [],
   "source": [
    "import matplotlib.pyplot as plt\n",
    "from ipywidgets import interact\n",
    "\n",
    "%matplotlib widget\n",
    "\n",
    "import sys; sys.path.append(\"../\")\n",
    "import vorts"
   ]
  },
  {
   "cell_type": "code",
   "execution_count": null,
   "id": "median-blood",
   "metadata": {},
   "outputs": [],
   "source": [
    "def plot_spiral(n=100, revs=2):\n",
    "    vorts.Tracers.spiral(n=n, revs=revs).plot()\n",
    "    \n",
    "interact(plot_spiral, n=(1, 500), revs=(1, 10))"
   ]
  },
  {
   "cell_type": "code",
   "execution_count": null,
   "id": "thrown-replication",
   "metadata": {},
   "outputs": [],
   "source": []
  }
 ],
 "metadata": {
  "kernelspec": {
   "display_name": "Python 3",
   "language": "python",
   "name": "python3"
  },
  "language_info": {
   "codemirror_mode": {
    "name": "ipython",
    "version": 3
   },
   "file_extension": ".py",
   "mimetype": "text/x-python",
   "name": "python",
   "nbconvert_exporter": "python",
   "pygments_lexer": "ipython3",
   "version": "3.8.6"
  }
 },
 "nbformat": 4,
 "nbformat_minor": 5
}
