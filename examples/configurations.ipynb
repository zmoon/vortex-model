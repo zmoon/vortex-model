{
 "cells": [
  {
   "cell_type": "markdown",
   "id": "informative-magic",
   "metadata": {},
   "source": [
    "# Built-in configurations"
   ]
  },
  {
   "cell_type": "code",
   "execution_count": null,
   "id": "confirmed-cleaning",
   "metadata": {},
   "outputs": [],
   "source": [
    "import matplotlib.pyplot as plt\n",
    "from ipywidgets import interact\n",
    "\n",
    "import sys; sys.path.append(\"../\"); import vorts\n",
    "\n",
    "%matplotlib widget"
   ]
  },
  {
   "cell_type": "markdown",
   "id": "blond-queen",
   "metadata": {},
   "source": [
    "## Tracer"
   ]
  },
  {
   "cell_type": "markdown",
   "id": "italic-yesterday",
   "metadata": {},
   "source": [
    "### Spiral"
   ]
  },
  {
   "cell_type": "code",
   "execution_count": null,
   "id": "significant-rebound",
   "metadata": {},
   "outputs": [],
   "source": [
    "fig1 = plt.figure()\n",
    "\n",
    "def plot_spiral(n=100, revs=2, connect=False):\n",
    "    fig = plt.figure(fig1.number); fig.clf(); ax = fig.add_subplot()\n",
    "    vorts.Tracers.spiral(n=n, revs=revs).plot(ax=ax, connect=connect)\n",
    "    \n",
    "interact(plot_spiral, n=(1, 500), revs=(1, 10))"
   ]
  },
  {
   "cell_type": "code",
   "execution_count": null,
   "id": "casual-spain",
   "metadata": {},
   "outputs": [],
   "source": [
    "vorts.Tracers.spiral?"
   ]
  },
  {
   "cell_type": "markdown",
   "id": "higher-breakdown",
   "metadata": {},
   "source": [
    "### Uniform random"
   ]
  },
  {
   "cell_type": "code",
   "execution_count": null,
   "id": "distributed-humidity",
   "metadata": {},
   "outputs": [],
   "source": [
    "vorts.Tracers.randu(200).plot()"
   ]
  },
  {
   "cell_type": "code",
   "execution_count": null,
   "id": "selected-induction",
   "metadata": {},
   "outputs": [],
   "source": [
    "vorts.Tracers.randu?"
   ]
  },
  {
   "cell_type": "markdown",
   "id": "toxic-anime",
   "metadata": {},
   "source": [
    "### Gaussian random"
   ]
  },
  {
   "cell_type": "code",
   "execution_count": null,
   "id": "identified-orleans",
   "metadata": {},
   "outputs": [],
   "source": [
    "vorts.Tracers.randn(400, sig_y=0.5).plot()"
   ]
  },
  {
   "cell_type": "code",
   "execution_count": null,
   "id": "palestinian-bowling",
   "metadata": {},
   "outputs": [],
   "source": [
    "vorts.Tracers.randn?"
   ]
  },
  {
   "cell_type": "markdown",
   "id": "removable-bridge",
   "metadata": {},
   "source": [
    "### Grid"
   ]
  },
  {
   "cell_type": "code",
   "execution_count": null,
   "id": "noticed-expression",
   "metadata": {},
   "outputs": [],
   "source": [
    "vorts.Tracers.grid(10, 20).plot()  # x first, then y"
   ]
  },
  {
   "cell_type": "code",
   "execution_count": null,
   "id": "visible-engagement",
   "metadata": {},
   "outputs": [],
   "source": [
    "vorts.Tracers.grid?"
   ]
  },
  {
   "cell_type": "markdown",
   "id": "indirect-perry",
   "metadata": {},
   "source": [
    "### Concentric circles"
   ]
  },
  {
   "cell_type": "code",
   "execution_count": null,
   "id": "seven-ordinance",
   "metadata": {},
   "outputs": [],
   "source": [
    "vorts.Tracers.circles().plot()"
   ]
  },
  {
   "cell_type": "code",
   "execution_count": null,
   "id": "northern-ebony",
   "metadata": {},
   "outputs": [],
   "source": [
    "vorts.Tracers.circles?"
   ]
  },
  {
   "cell_type": "markdown",
   "id": "unexpected-costume",
   "metadata": {},
   "source": [
    "## Vortons"
   ]
  },
  {
   "cell_type": "markdown",
   "id": "atomic-algebra",
   "metadata": {},
   "source": [
    "### Isosceles triangle"
   ]
  },
  {
   "cell_type": "code",
   "execution_count": null,
   "id": "forced-catering",
   "metadata": {},
   "outputs": [],
   "source": [
    "vorts.Vortons.isos_triangle(theta_deg=72).plot()"
   ]
  },
  {
   "cell_type": "code",
   "execution_count": null,
   "id": "dutch-mayor",
   "metadata": {},
   "outputs": [],
   "source": [
    "vorts.Vortons.isos_triangle?"
   ]
  },
  {
   "cell_type": "markdown",
   "id": "efficient-blogger",
   "metadata": {},
   "source": [
    "### Regular polygon"
   ]
  },
  {
   "cell_type": "code",
   "execution_count": null,
   "id": "reserved-breakfast",
   "metadata": {},
   "outputs": [],
   "source": [
    "fig2 = plt.figure()\n",
    "\n",
    "def plot_spiral(n=6):\n",
    "    fig = plt.figure(fig2.number); fig.clf(); ax = fig.add_subplot()\n",
    "    vorts.Vortons.regular_polygon(n=n).plot(ax=ax)\n",
    "    \n",
    "interact(plot_spiral, n=(3, 20))"
   ]
  },
  {
   "cell_type": "code",
   "execution_count": null,
   "id": "tight-witch",
   "metadata": {},
   "outputs": [],
   "source": [
    "vorts.Vortons.regular_polygon?"
   ]
  }
 ],
 "metadata": {
  "kernelspec": {
   "display_name": "Python 3",
   "language": "python",
   "name": "python3"
  },
  "language_info": {
   "codemirror_mode": {
    "name": "ipython",
    "version": 3
   },
   "file_extension": ".py",
   "mimetype": "text/x-python",
   "name": "python",
   "nbconvert_exporter": "python",
   "pygments_lexer": "ipython3",
   "version": "3.8.6"
  }
 },
 "nbformat": 4,
 "nbformat_minor": 5
}
